{
 "cells": [
  {
   "cell_type": "code",
   "execution_count": 1,
   "metadata": {},
   "outputs": [],
   "source": [
    "import pandas as pd\n",
    "\n",
    "import time\n",
    "import os\n",
    "import psycopg2"
   ]
  },
  {
   "cell_type": "markdown",
   "metadata": {},
   "source": [
    "#### Testing for connection"
   ]
  },
  {
   "cell_type": "markdown",
   "metadata": {},
   "source": [
    "Run the cell below to test if your machine is able to connect to the sanjose database.\n",
    "\n",
    "If connection is successful, the expected output should be:<br>\n",
    "`\n",
    "Connecting to the PostgreSQL database...\n",
    "PostgreSQL database version:\n",
    "('PostgreSQL 10.10 (Ubuntu 10.10-0ubuntu0.18.04.1) on x86_64-pc-linux-gnu, compiled by gcc (Ubuntu 7.4.0-1ubuntu1~18.04.1) 7.4.0, 64-bit',)\n",
    "Database connection closed.\n",
    "`"
   ]
  },
  {
   "cell_type": "code",
   "execution_count": 5,
   "metadata": {},
   "outputs": [
    {
     "name": "stdout",
     "output_type": "stream",
     "text": [
      "Connecting to the PostgreSQL database...\n",
      "PostgreSQL database version:\n",
      "('PostgreSQL 10.10 (Ubuntu 10.10-0ubuntu0.18.04.1) on x86_64-pc-linux-gnu, compiled by gcc (Ubuntu 7.4.0-1ubuntu1~18.04.1) 7.4.0, 64-bit',)\n",
      "Database connection closed.\n"
     ]
    }
   ],
   "source": [
    "conn = psycopg2.connect(host=\"sanjose\",\n",
    "                        database=\"atlas\",\n",
    "                        user=\"student\"\n",
    "                       )\n",
    " \n",
    "def connect():\n",
    "    '''\n",
    "    Connect to the PostgreSQL database server\n",
    "    '''\n",
    "    #conn = None\n",
    "    try:\n",
    "        # read connection parameters\n",
    "        #params = config()\n",
    " \n",
    "        # connect to the PostgreSQL server\n",
    "        print('Connecting to the PostgreSQL database...')\n",
    "        #conn = psycopg2.connect(**params)\n",
    "      \n",
    "        # create a cursor\n",
    "        cur = conn.cursor()\n",
    "        \n",
    "   # execute a statement\n",
    "        print('PostgreSQL database version:')\n",
    "        cur.execute('SELECT version()')\n",
    " \n",
    "        # display the PostgreSQL database server version\n",
    "        db_version = cur.fetchone()\n",
    "        print(db_version)\n",
    "       \n",
    "       # close the communication with the PostgreSQL\n",
    "        cur.close()\n",
    "    except (Exception, psycopg2.DatabaseError) as error:\n",
    "        print(error)\n",
    "    finally:\n",
    "        if conn is not None:\n",
    "            conn.close()\n",
    "            print('Database connection closed.')\n",
    " \n",
    " \n",
    "if __name__ == '__main__':\n",
    "    connect()"
   ]
  },
  {
   "cell_type": "markdown",
   "metadata": {
    "slideshow": {
     "slide_type": "slide"
    }
   },
   "source": [
    "## Part 1: Database Creation"
   ]
  },
  {
   "cell_type": "markdown",
   "metadata": {
    "slideshow": {
     "slide_type": "fragment"
    }
   },
   "source": [
    "Before running, make sure the file path below points to where all your folders live"
   ]
  },
  {
   "cell_type": "code",
   "execution_count": 6,
   "metadata": {
    "slideshow": {
     "slide_type": "fragment"
    }
   },
   "outputs": [],
   "source": [
    "directory = 'C:/<YOUR FILE PATH>' "
   ]
  },
  {
   "cell_type": "markdown",
   "metadata": {
    "slideshow": {
     "slide_type": "slide"
    }
   },
   "source": [
    "### Define Create Table function"
   ]
  },
  {
   "cell_type": "markdown",
   "metadata": {},
   "source": [
    "The cell below creates a connection to the psql database. It returns a connection object that can be used by other functions."
   ]
  },
  {
   "cell_type": "code",
   "execution_count": 7,
   "metadata": {
    "slideshow": {
     "slide_type": "subslide"
    }
   },
   "outputs": [],
   "source": [
    "'''\n",
    "arg should ideally be a config() file.\n",
    "'''\n",
    "def create_connection():\n",
    "    \"\"\" create a database connection to the SQLite database\n",
    "        specified by db_file\n",
    "    :param db_file: database file\n",
    "    :return: Connection object or None\n",
    "    \"\"\"\n",
    "    import psycopg2\n",
    "    conn = None\n",
    "    try:\n",
    "        conn = psycopg2.connect(host=\"sanjose\",\n",
    "                        database=\"atlas\",\n",
    "                        user=\"student\"\n",
    "                       )\n",
    "        return conn\n",
    "    except:\n",
    "        logging.warning('unable to connect to database')\n",
    "        exit(1)\n",
    " \n",
    "    return conn\n"
   ]
  },
  {
   "cell_type": "markdown",
   "metadata": {},
   "source": [
    "The cell below creates a cursor object from the connection object created above. It then takes in a SQL query to create new tables in the psql database."
   ]
  },
  {
   "cell_type": "code",
   "execution_count": 8,
   "metadata": {
    "slideshow": {
     "slide_type": "subslide"
    }
   },
   "outputs": [],
   "source": [
    "def create_table(conn, create_table_sql):\n",
    "    \"\"\" create a table from the create_table_sql statement\n",
    "    :param conn: Connection object\n",
    "    :param create_table_sql: a CREATE TABLE statement\n",
    "    :return:\n",
    "    \"\"\"\n",
    "    try:\n",
    "        c = conn.cursor()\n",
    "        c.execute(create_table_sql)\n",
    "    except:\n",
    "        print('Table creation failed.')\n"
   ]
  },
  {
   "cell_type": "markdown",
   "metadata": {},
   "source": [
    "Below, the main function is where the table creation function is executed. It also commits (saves) and closes the connection to the psql database (this is recommended every time a connection is opened and changes are made to a database).<br>\n",
    "If successful, the expected output is:<br>\n",
    "`\n",
    "Table created.\n",
    "Database committed.\n",
    "Database connection closed.\n",
    "`"
   ]
  },
  {
   "cell_type": "code",
   "execution_count": 9,
   "metadata": {
    "slideshow": {
     "slide_type": "subslide"
    }
   },
   "outputs": [
    {
     "name": "stdout",
     "output_type": "stream",
     "text": [
      "Table created.\n",
      "Database committed.\n",
      "Database connection closed.\n"
     ]
    }
   ],
   "source": [
    "def main(sql_query):\n",
    " \n",
    "    # create a database connection\n",
    "    conn = create_connection()\n",
    " \n",
    "    # create tables\n",
    "    if conn is not None:\n",
    "        # create weather table\n",
    "        create_table(conn, sql_query)\n",
    "        print('Table created.')\n",
    "        conn.commit()\n",
    "        print('Database committed.')\n",
    "        conn.close()\n",
    "        print('Database connection closed.')\n",
    "    else:\n",
    "        print(\"Error! cannot create the database connection.\")\n"
   ]
  },
  {
   "cell_type": "markdown",
   "metadata": {},
   "source": [
    "#### Table creation query"
   ]
  },
  {
   "cell_type": "markdown",
   "metadata": {},
   "source": [
    "Define your table creation query below.<br>\n",
    "<br>\n",
    "Note, data types in PSQL are different from SQLite. More about data types [here](http://www.postgresqltutorial.com/postgresql-data-types/) and [here](https://www.postgresql.org/docs/9.5/datatype.html)."
   ]
  },
  {
   "cell_type": "code",
   "execution_count": 1,
   "metadata": {},
   "outputs": [],
   "source": [
    "'''\n",
    "This is a variable that holds the SQL query as a string object.\n",
    "This variable then gets passed into the main() function created above\n",
    "and creates a table based off the SQL query you specify.\n",
    "'''\n",
    "sql_create_weather_table = \"\"\" CREATE TABLE IF NOT EXISTS your_table (\n",
    "                                    record_id SERIAL PRIMARY KEY,\n",
    "                                    region VARCHAR(64),\n",
    "                                    latitude NUMERIC,\n",
    "                                    longitude NUMERIC,\n",
    "                                    date DATE,\n",
    "                                    precipitation NUMERIC,\n",
    "                                    max_temp NUMERIC,\n",
    "                                    min_temp NUMERIC,\n",
    "                                    wind NUMERIC\n",
    "                                );\n",
    "                            \"\"\""
   ]
  },
  {
   "cell_type": "markdown",
   "metadata": {},
   "source": [
    "#### Run Table Creation Query"
   ]
  },
  {
   "cell_type": "code",
   "execution_count": null,
   "metadata": {},
   "outputs": [],
   "source": [
    "if __name__ == '__main__':\n",
    "    main(sql_create_weather_table)"
   ]
  },
  {
   "cell_type": "markdown",
   "metadata": {
    "slideshow": {
     "slide_type": "slide"
    }
   },
   "source": [
    "### Define INSERT statements"
   ]
  },
  {
   "cell_type": "markdown",
   "metadata": {},
   "source": [
    "Example of data the insert statement accepts:<br>\n",
    "`\n",
    "your_data = [(col_1,col_2,col_3),(col1,col2,col3),(col1,col2,col3),...]\n",
    "`"
   ]
  },
  {
   "cell_type": "code",
   "execution_count": 4,
   "metadata": {
    "slideshow": {
     "slide_type": "subslide"
    }
   },
   "outputs": [],
   "source": [
    "'''\n",
    "The function below ideally takes in rows of data formatted as a list of tuples.\n",
    "'''\n",
    "def insert_data(chunk):\n",
    "    try:\n",
    "        # create a database connection\n",
    "        conn = create_connection()\n",
    "        cur = conn.cursor()\n",
    "        with conn:\n",
    "            # The number of %s below should match the number of columns you pass in.\n",
    "            args_str = ','.join(cur.mogrify(\"(%s,%s,%s,%s,%s,%s,%s,%s)\", x).decode(\"utf-8\") for x in tuple(chunk))\n",
    "\n",
    "            cur.execute(\"INSERT INTO your_table (region,latitude,longitude,date,precipitation,max_temp,min_temp,wind) VALUES \" + args_str)\n",
    "        conn.commit()\n",
    "        conn.close()\n",
    "    except:\n",
    "        print(\"Data insertion failed.\")"
   ]
  },
  {
   "cell_type": "code",
   "execution_count": 8,
   "metadata": {},
   "outputs": [],
   "source": [
    "'''\n",
    "This function splits the contents of a text file into\n",
    "individual rows.\n",
    "\n",
    "Returns a list of tuples.\n",
    "'''\n",
    "def row_split(cont):\n",
    "    measurements = None\n",
    "    try:\n",
    "        rows = cont.split('\\n')\n",
    "        rows = rows[:-1]\n",
    "        measurements = [tuple(x.split()) for x in rows]\n",
    "        return measurements\n",
    "    except:\n",
    "        print(\"Check that file contents are correct!\")"
   ]
  },
  {
   "cell_type": "code",
   "execution_count": null,
   "metadata": {},
   "outputs": [],
   "source": [
    "def process_file(filename, folder_dir):\n",
    "    data_chunk = None\n",
    "    try:\n",
    "        if filename.startswith('data'):\n",
    "\n",
    "            with open(folder_dir + '//' + filename, 'r') as f:\n",
    "                cont = f.read()\n",
    "                \n",
    "            records = row_split(cont)\n",
    "\n",
    "            data_chunk = [x for x in records]\n",
    "            \n",
    "            return data_chunk\n",
    "        else:\n",
    "            return data_chunk\n",
    "    except:\n",
    "        print(\"Failed to extract data for insertion.\")"
   ]
  },
  {
   "cell_type": "code",
   "execution_count": null,
   "metadata": {},
   "outputs": [],
   "source": [
    "def main(directory):\n",
    "    import time\n",
    "    start_time = time.time()\n",
    "    counter = 0\n",
    "    print('Reading in files from %s' % directory)\n",
    "    for filename in os.listdir(directory):\n",
    "        try:\n",
    "            insert_data(process_file(filename))\n",
    "            counter += 1\n",
    "\n",
    "            if (counter % 1000) == 0:\n",
    "                print(\"Still working...\")           \n",
    "                continue\n",
    "            else:\n",
    "                continue\n",
    "        except:\n",
    "            print(\"You broke the Internet.\")\n",
    "        \n",
    "    end_time = time.time()\n",
    "    total_time = end_time - start_time\n",
    "        \n",
    "    print(\"Congratulations, Mr. Stark. All data successfully extracted from all folders.\")\n",
    "    print(\"Time elapsed: %.2f minutes\" % (total_time/60))"
   ]
  },
  {
   "cell_type": "markdown",
   "metadata": {
    "slideshow": {
     "slide_type": "skip"
    }
   },
   "source": [
    "### Run Data Insertion function"
   ]
  },
  {
   "cell_type": "code",
   "execution_count": null,
   "metadata": {},
   "outputs": [],
   "source": [
    "'''\n",
    "Takes in the directory path specified at the top of this notebook\n",
    "'''\n",
    "if __name__ == '__main__':\n",
    "    main(directory)"
   ]
  }
 ],
 "metadata": {
  "kernelspec": {
   "display_name": "Python 3",
   "language": "python",
   "name": "python3"
  },
  "language_info": {
   "codemirror_mode": {
    "name": "ipython",
    "version": 3
   },
   "file_extension": ".py",
   "mimetype": "text/x-python",
   "name": "python",
   "nbconvert_exporter": "python",
   "pygments_lexer": "ipython3",
   "version": "3.7.4"
  }
 },
 "nbformat": 4,
 "nbformat_minor": 4
}
